{
  "cells": [
    {
      "cell_type": "code",
      "execution_count": null,
      "id": "da326721-1373-4d5d-b5a1-5f614549021a",
      "metadata": {
        "id": "da326721-1373-4d5d-b5a1-5f614549021a"
      },
      "outputs": [],
      "source": [
        "\"\"\"\n",
        "Goal:\n",
        "For a given |Ψ> and Gamma for 2 qubits\n",
        "reproduce figure 3 by compute H' and S and solve HC=SCE\n",
        "\"\"\""
      ]
    },
    {
      "cell_type": "code",
      "execution_count": null,
      "id": "153da5e4-7db6-4dec-9aa6-e7126dcb243d",
      "metadata": {
        "id": "153da5e4-7db6-4dec-9aa6-e7126dcb243d"
      },
      "outputs": [],
      "source": [
        "import numpy as np\n",
        "import math\n",
        "from collections import Counter\n",
        "\n",
        "# Importing standard Qiskit libraries\n",
        "from qiskit import QuantumCircuit, transpile, Aer, IBMQ, assemble, QuantumRegister, ClassicalRegister, BasicAer, execute\n",
        "from qiskit.tools.jupyter import *\n",
        "from qiskit.visualization import *\n",
        "from qiskit.providers.aer import QasmSimulator\n",
        "from qiskit.opflow import I,Z,X,Y,StateFn\n",
        "\n",
        "from scipy.linalg import eigh, eig\n",
        "from collections.abc import Iterable   # import directly from collections for Python < 3.3\n",
        "\n",
        "# Loading your IBM Quantum account(s)\n",
        "provider = IBMQ.load_account()"
      ]
    },
    {
      "cell_type": "code",
      "execution_count": null,
      "id": "2739b32b-22e2-4f66-8867-9d6e9c4f91cf",
      "metadata": {
        "id": "2739b32b-22e2-4f66-8867-9d6e9c4f91cf"
      },
      "outputs": [],
      "source": [
        "def real(M):\n",
        "    if isinstance(M, Iterable):\n",
        "        return [real(Mi) for Mi in M]\n",
        "    else:\n",
        "        return M.real\n",
        "def format_matrix(matrix):\n",
        "    s = [[str(e) for e in row] for row in matrix]\n",
        "    lens = [max(map(len, col)) for col in zip(*s)]\n",
        "    fmt = '\\t'.join('{{:{}}}'.format(x) for x in lens)\n",
        "    table = [fmt.format(*row) for row in s]\n",
        "    return '\\n'.join(table)"
      ]
    },
    {
      "cell_type": "code",
      "execution_count": null,
      "id": "cd8a301d-74d7-4b75-a4c4-b67df5dae34b",
      "metadata": {
        "id": "cd8a301d-74d7-4b75-a4c4-b67df5dae34b",
        "outputId": "bd3c66d5-34c6-4db8-b0ac-e37157fa2ece"
      },
      "outputs": [
        {
          "name": "stdout",
          "output_type": "stream",
          "text": [
            "norm of the normalized state =  (1+0j)\n",
            "expectation value of all generators for the state: [(1+0j), (1+0j), (1+0j), (1+0j)]\n",
            "There are  16 Ms:\n",
            "[PauliSumOp(SparsePauliOp(['IIIII'],\n",
            "              coeffs=[1.+0.j]), coeff=1.0), PauliSumOp(SparsePauliOp(['ZXIXZ'],\n",
            "              coeffs=[1.+0.j]), coeff=1.0), PauliSumOp(SparsePauliOp(['XIXZZ'],\n",
            "              coeffs=[1.+0.j]), coeff=1.0), PauliSumOp(SparsePauliOp(['YXXYI'],\n",
            "              coeffs=[1.+0.j]), coeff=1.0), PauliSumOp(SparsePauliOp(['IXZZX'],\n",
            "              coeffs=[1.+0.j]), coeff=1.0), PauliSumOp(SparsePauliOp(['ZIZYY'],\n",
            "              coeffs=[1.+0.j]), coeff=1.0), PauliSumOp(SparsePauliOp(['XXYIY'],\n",
            "              coeffs=[1.+0.j]), coeff=1.0), PauliSumOp(SparsePauliOp(['YIYXX'],\n",
            "              coeffs=[1.+0.j]), coeff=1.0), PauliSumOp(SparsePauliOp(['XZZXI'],\n",
            "              coeffs=[1.+0.j]), coeff=1.0), PauliSumOp(SparsePauliOp(['YYZIZ'],\n",
            "              coeffs=[1.+0.j]), coeff=1.0), PauliSumOp(SparsePauliOp(['IZYYZ'],\n",
            "              coeffs=[1.+0.j]), coeff=1.0), PauliSumOp(SparsePauliOp(['ZYYZI'],\n",
            "              coeffs=[1.+0.j]), coeff=1.0), PauliSumOp(SparsePauliOp(['XYIYX'],\n",
            "              coeffs=[1.+0.j]), coeff=1.0), PauliSumOp(SparsePauliOp(['YZIZY'],\n",
            "              coeffs=[1.+0.j]), coeff=1.0), PauliSumOp(SparsePauliOp(['IYXXY'],\n",
            "              coeffs=[1.+0.j]), coeff=1.0), PauliSumOp(SparsePauliOp(['ZZXIX'],\n",
            "              coeffs=[1.+0.j]), coeff=1.0)]\n",
            "Sij=\n",
            "1.0\t1.0\t1.0\t1.0\t1.0\t1.0\t1.0\t1.0\t1.0\t1.0\t1.0\t1.0\t1.0\t1.0\t1.0\t1.0\n",
            "1.0\t1.0\t1.0\t1.0\t1.0\t1.0\t1.0\t1.0\t1.0\t1.0\t1.0\t1.0\t1.0\t1.0\t1.0\t1.0\n",
            "1.0\t1.0\t1.0\t1.0\t1.0\t1.0\t1.0\t1.0\t1.0\t1.0\t1.0\t1.0\t1.0\t1.0\t1.0\t1.0\n",
            "1.0\t1.0\t1.0\t1.0\t1.0\t1.0\t1.0\t1.0\t1.0\t1.0\t1.0\t1.0\t1.0\t1.0\t1.0\t1.0\n",
            "1.0\t1.0\t1.0\t1.0\t1.0\t1.0\t1.0\t1.0\t1.0\t1.0\t1.0\t1.0\t1.0\t1.0\t1.0\t1.0\n",
            "1.0\t1.0\t1.0\t1.0\t1.0\t1.0\t1.0\t1.0\t1.0\t1.0\t1.0\t1.0\t1.0\t1.0\t1.0\t1.0\n",
            "1.0\t1.0\t1.0\t1.0\t1.0\t1.0\t1.0\t1.0\t1.0\t1.0\t1.0\t1.0\t1.0\t1.0\t1.0\t1.0\n",
            "1.0\t1.0\t1.0\t1.0\t1.0\t1.0\t1.0\t1.0\t1.0\t1.0\t1.0\t1.0\t1.0\t1.0\t1.0\t1.0\n",
            "1.0\t1.0\t1.0\t1.0\t1.0\t1.0\t1.0\t1.0\t1.0\t1.0\t1.0\t1.0\t1.0\t1.0\t1.0\t1.0\n",
            "1.0\t1.0\t1.0\t1.0\t1.0\t1.0\t1.0\t1.0\t1.0\t1.0\t1.0\t1.0\t1.0\t1.0\t1.0\t1.0\n",
            "1.0\t1.0\t1.0\t1.0\t1.0\t1.0\t1.0\t1.0\t1.0\t1.0\t1.0\t1.0\t1.0\t1.0\t1.0\t1.0\n",
            "1.0\t1.0\t1.0\t1.0\t1.0\t1.0\t1.0\t1.0\t1.0\t1.0\t1.0\t1.0\t1.0\t1.0\t1.0\t1.0\n",
            "1.0\t1.0\t1.0\t1.0\t1.0\t1.0\t1.0\t1.0\t1.0\t1.0\t1.0\t1.0\t1.0\t1.0\t1.0\t1.0\n",
            "1.0\t1.0\t1.0\t1.0\t1.0\t1.0\t1.0\t1.0\t1.0\t1.0\t1.0\t1.0\t1.0\t1.0\t1.0\t1.0\n",
            "1.0\t1.0\t1.0\t1.0\t1.0\t1.0\t1.0\t1.0\t1.0\t1.0\t1.0\t1.0\t1.0\t1.0\t1.0\t1.0\n",
            "1.0\t1.0\t1.0\t1.0\t1.0\t1.0\t1.0\t1.0\t1.0\t1.0\t1.0\t1.0\t1.0\t1.0\t1.0\t1.0\n",
            "Hij=\n",
            "-16.0\t-16.0\t-16.0\t-16.0\t-16.0\t-16.0\t-16.0\t-16.0\t-16.0\t-16.0\t-16.0\t-16.0\t-16.0\t-16.0\t-16.0\t-16.0\n",
            "-16.0\t-16.0\t-16.0\t-16.0\t-16.0\t-16.0\t-16.0\t-16.0\t-16.0\t-16.0\t-16.0\t-16.0\t-16.0\t-16.0\t-16.0\t-16.0\n",
            "-16.0\t-16.0\t-16.0\t-16.0\t-16.0\t-16.0\t-16.0\t-16.0\t-16.0\t-16.0\t-16.0\t-16.0\t-16.0\t-16.0\t-16.0\t-16.0\n",
            "-16.0\t-16.0\t-16.0\t-16.0\t-16.0\t-16.0\t-16.0\t-16.0\t-16.0\t-16.0\t-16.0\t-16.0\t-16.0\t-16.0\t-16.0\t-16.0\n",
            "-16.0\t-16.0\t-16.0\t-16.0\t-16.0\t-16.0\t-16.0\t-16.0\t-16.0\t-16.0\t-16.0\t-16.0\t-16.0\t-16.0\t-16.0\t-16.0\n",
            "-16.0\t-16.0\t-16.0\t-16.0\t-16.0\t-16.0\t-16.0\t-16.0\t-16.0\t-16.0\t-16.0\t-16.0\t-16.0\t-16.0\t-16.0\t-16.0\n",
            "-16.0\t-16.0\t-16.0\t-16.0\t-16.0\t-16.0\t-16.0\t-16.0\t-16.0\t-16.0\t-16.0\t-16.0\t-16.0\t-16.0\t-16.0\t-16.0\n",
            "-16.0\t-16.0\t-16.0\t-16.0\t-16.0\t-16.0\t-16.0\t-16.0\t-16.0\t-16.0\t-16.0\t-16.0\t-16.0\t-16.0\t-16.0\t-16.0\n",
            "-16.0\t-16.0\t-16.0\t-16.0\t-16.0\t-16.0\t-16.0\t-16.0\t-16.0\t-16.0\t-16.0\t-16.0\t-16.0\t-16.0\t-16.0\t-16.0\n",
            "-16.0\t-16.0\t-16.0\t-16.0\t-16.0\t-16.0\t-16.0\t-16.0\t-16.0\t-16.0\t-16.0\t-16.0\t-16.0\t-16.0\t-16.0\t-16.0\n",
            "-16.0\t-16.0\t-16.0\t-16.0\t-16.0\t-16.0\t-16.0\t-16.0\t-16.0\t-16.0\t-16.0\t-16.0\t-16.0\t-16.0\t-16.0\t-16.0\n",
            "-16.0\t-16.0\t-16.0\t-16.0\t-16.0\t-16.0\t-16.0\t-16.0\t-16.0\t-16.0\t-16.0\t-16.0\t-16.0\t-16.0\t-16.0\t-16.0\n",
            "-16.0\t-16.0\t-16.0\t-16.0\t-16.0\t-16.0\t-16.0\t-16.0\t-16.0\t-16.0\t-16.0\t-16.0\t-16.0\t-16.0\t-16.0\t-16.0\n",
            "-16.0\t-16.0\t-16.0\t-16.0\t-16.0\t-16.0\t-16.0\t-16.0\t-16.0\t-16.0\t-16.0\t-16.0\t-16.0\t-16.0\t-16.0\t-16.0\n",
            "-16.0\t-16.0\t-16.0\t-16.0\t-16.0\t-16.0\t-16.0\t-16.0\t-16.0\t-16.0\t-16.0\t-16.0\t-16.0\t-16.0\t-16.0\t-16.0\n",
            "-16.0\t-16.0\t-16.0\t-16.0\t-16.0\t-16.0\t-16.0\t-16.0\t-16.0\t-16.0\t-16.0\t-16.0\t-16.0\t-16.0\t-16.0\t-16.0\n"
          ]
        }
      ],
      "source": [
        "# [5,1,3]\n",
        "generators = [X^Z^Z^X^I, I^X^Z^Z^X, X^I^X^Z^Z, Z^X^I^X^Z] # M's\n",
        "\n",
        "projectors = [((I^I^I^I^I) + g)/2 for g in generators]\n",
        "\n",
        "projector = I^I^I^I^I\n",
        "for p in projectors:\n",
        "    projector = projector @ p\n",
        "\n",
        "statefn_a = StateFn('00001')\n",
        "statefn = projector @ statefn_a\n",
        "# TODO: force it to be logical 0, and then add an error\n",
        "\n",
        "# now we have a state that's in the +1 eigenstate of all the generators so it's in the codespace\n",
        "# normalize the state:\n",
        "norm = (statefn.adjoint() @ statefn).eval()\n",
        "statefn = statefn / (norm ** 0.5)\n",
        "print(\"norm of the normalized state = \", (statefn.adjoint() @ statefn).eval())\n",
        "# check we are getting 1 for all\n",
        "print(\"expectation value of all generators for the state:\", [(statefn.adjoint() @ g @ statefn).eval() for g in generators])\n",
        "\n",
        "Ms = [p * (1 / norm) for p in projector]\n",
        "print(\"There are \", len(Ms), \"Ms:\")\n",
        "print(Ms)\n",
        "\n",
        "Sij = []\n",
        "for i in range(len(Ms)):\n",
        "    Sij.append([])\n",
        "    for j in range(len(Ms)):\n",
        "        Sij[-1].append((statefn.adjoint() @ Ms[i] @ Ms[j] @ statefn).eval())\n",
        "\n",
        "print(\"Sij=\")\n",
        "print(format_matrix(real(Sij)))\n",
        "# If there is no error, all entries in Sij should be 1's\n",
        "\n",
        "H = -sum(Ms)\n",
        "\n",
        "Hij = []\n",
        "for i in range(len(Ms)):\n",
        "    Hij.append([])\n",
        "    for j in range(len(Ms)):\n",
        "        Hij[-1].append((statefn.adjoint() @ Ms[i] @ H @ Ms[j] @ statefn).eval())\n",
        "print(\"Hij=\")\n",
        "print(format_matrix(real(Hij)))\n",
        "\n",
        "# now solve for HC=SCE then compute gamma\n",
        "\n",
        "# do we project to encode a|l0> + b|l1> then apply an error then project again?\n",
        "\n",
        "# classically compute <gamma>\n",
        "# classically compute <gamma> with no errors from the beginning\n",
        "# compute fidelity and plot the chart for different amount_of_noise*"
      ]
    },
    {
      "cell_type": "code",
      "execution_count": null,
      "id": "696aca0e-90a5-44ad-a6a7-1a2833743302",
      "metadata": {
        "id": "696aca0e-90a5-44ad-a6a7-1a2833743302"
      },
      "outputs": [],
      "source": []
    },
    {
      "cell_type": "code",
      "execution_count": null,
      "id": "bd587e4f-27fd-4ed0-b26e-1f9bca116524",
      "metadata": {
        "id": "bd587e4f-27fd-4ed0-b26e-1f9bca116524",
        "outputId": "226b617d-4ad6-40fa-fac2-1b12112a7e69"
      },
      "outputs": [
        {
          "name": "stdout",
          "output_type": "stream",
          "text": [
            "E= [-16.000000000000007, -16.0, nan, nan, nan, nan, nan, nan, nan, nan, nan, nan, nan, nan, nan, nan]\n",
            "C=\n",
            " -1.0\t0.0\t0.0\t0.0\t0.0\t0.0\t0.0\t0.0\t0.0\t0.0\t0.0\t0.0\t0.0\t0.0\t0.0\t0.0\n",
            "0.0 \t1.0\t0.0\t0.0\t0.0\t0.0\t0.0\t0.0\t0.0\t0.0\t0.0\t0.0\t0.0\t0.0\t0.0\t0.0\n",
            "0.0 \t0.0\t1.0\t0.0\t0.0\t0.0\t0.0\t0.0\t0.0\t0.0\t0.0\t0.0\t0.0\t0.0\t0.0\t0.0\n",
            "0.0 \t0.0\t0.0\t1.0\t0.0\t0.0\t0.0\t0.0\t0.0\t0.0\t0.0\t0.0\t0.0\t0.0\t0.0\t0.0\n",
            "0.0 \t0.0\t0.0\t0.0\t1.0\t0.0\t0.0\t0.0\t0.0\t0.0\t0.0\t0.0\t0.0\t0.0\t0.0\t0.0\n",
            "0.0 \t0.0\t0.0\t0.0\t0.0\t1.0\t0.0\t0.0\t0.0\t0.0\t0.0\t0.0\t0.0\t0.0\t0.0\t0.0\n",
            "0.0 \t0.0\t0.0\t0.0\t0.0\t0.0\t1.0\t0.0\t0.0\t0.0\t0.0\t0.0\t0.0\t0.0\t0.0\t0.0\n",
            "0.0 \t0.0\t0.0\t0.0\t0.0\t0.0\t0.0\t1.0\t0.0\t0.0\t0.0\t0.0\t0.0\t0.0\t0.0\t0.0\n",
            "0.0 \t0.0\t0.0\t0.0\t0.0\t0.0\t0.0\t0.0\t1.0\t0.0\t0.0\t0.0\t0.0\t0.0\t0.0\t0.0\n",
            "0.0 \t0.0\t0.0\t0.0\t0.0\t0.0\t0.0\t0.0\t0.0\t1.0\t0.0\t0.0\t0.0\t0.0\t0.0\t0.0\n",
            "0.0 \t0.0\t0.0\t0.0\t0.0\t0.0\t0.0\t0.0\t0.0\t0.0\t1.0\t0.0\t0.0\t0.0\t0.0\t0.0\n",
            "0.0 \t0.0\t0.0\t0.0\t0.0\t0.0\t0.0\t0.0\t0.0\t0.0\t0.0\t1.0\t0.0\t0.0\t0.0\t0.0\n",
            "0.0 \t0.0\t0.0\t0.0\t0.0\t0.0\t0.0\t0.0\t0.0\t0.0\t0.0\t0.0\t1.0\t0.0\t0.0\t0.0\n",
            "0.0 \t0.0\t0.0\t0.0\t0.0\t0.0\t0.0\t0.0\t0.0\t0.0\t0.0\t0.0\t0.0\t1.0\t0.0\t0.0\n",
            "0.0 \t0.0\t0.0\t0.0\t0.0\t0.0\t0.0\t0.0\t0.0\t0.0\t0.0\t0.0\t0.0\t0.0\t1.0\t0.0\n",
            "0.0 \t0.0\t0.0\t0.0\t0.0\t0.0\t0.0\t0.0\t0.0\t0.0\t0.0\t0.0\t0.0\t0.0\t0.0\t1.0\n"
          ]
        }
      ],
      "source": [
        "# from https://stackoverflow.com/questions/24752393/solve-generalized-eigenvalue-problem-in-numpy\n",
        "# docs: https://docs.scipy.org/doc/scipy/reference/generated/scipy.linalg.eig.html#scipy.linalg.eig\n",
        "# eigh(Hij, Sij, eigvals_only=False)#, subset_by_index=[0,1])\n",
        "E,C = eig(Hij, Sij)\n",
        "print(\"E=\",real(E))\n",
        "print(\"C=\\n\", format_matrix(real(C)))"
      ]
    },
    {
      "cell_type": "code",
      "execution_count": null,
      "id": "7fcfc3c3-46e4-4de0-8775-87c63392a65d",
      "metadata": {
        "id": "7fcfc3c3-46e4-4de0-8775-87c63392a65d"
      },
      "outputs": [],
      "source": []
    },
    {
      "cell_type": "code",
      "execution_count": null,
      "id": "fd17f21c-6887-4cd9-b13c-2f457dcf7787",
      "metadata": {
        "id": "fd17f21c-6887-4cd9-b13c-2f457dcf7787"
      },
      "outputs": [],
      "source": []
    }
  ],
  "metadata": {
    "kernelspec": {
      "display_name": "Python 3 (ipykernel)",
      "language": "python",
      "name": "python3"
    },
    "language_info": {
      "codemirror_mode": {
        "name": "ipython",
        "version": 3
      },
      "file_extension": ".py",
      "mimetype": "text/x-python",
      "name": "python",
      "nbconvert_exporter": "python",
      "pygments_lexer": "ipython3",
      "version": "3.9.6"
    },
    "colab": {
      "provenance": []
    }
  },
  "nbformat": 4,
  "nbformat_minor": 5
}